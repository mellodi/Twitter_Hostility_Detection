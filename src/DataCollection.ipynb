{
 "cells": [
  {
   "cell_type": "markdown",
   "metadata": {},
   "source": [
    "## Data Collection code "
   ]
  },
  {
   "cell_type": "markdown",
   "metadata": {},
   "source": [
    "#### This notebook provides code to reproduce the primary data used in data analysis and training the models.\n"
   ]
  },
  {
   "cell_type": "code",
   "execution_count": 3,
   "metadata": {},
   "outputs": [],
   "source": [
    "import configparser\n",
    "from TwitterAPI import TwitterAPI\n",
    "import json\n",
    "import csv\n",
    "import sys\n",
    "import time\n",
    "import pandas as pd\n",
    "import ast\n",
    "import numpy as np\n",
    "import collections\n",
    "import os\n",
    "import math\n",
    "import collections\n",
    "from sklearn.feature_extraction.text import CountVectorizer\n",
    "from sklearn.feature_extraction.text import TfidfTransformer, TfidfVectorizer\n",
    "from sklearn.cluster import KMeans\n",
    "from sklearn.model_selection import cross_validate, StratifiedKFold\n",
    "from sklearn.neighbors import KNeighborsClassifier\n",
    "from sklearn.decomposition import PCA,TruncatedSVD\n",
    "import re\n",
    "import random\n",
    "from emoji_function import demojize\n",
    "import nltk\n",
    "from nltk.corpus import stopwords\n",
    "import json\n",
    "from myUtility import get_twitter, filePrepration"
   ]
  },
  {
   "cell_type": "code",
   "execution_count": 26,
   "metadata": {},
   "outputs": [],
   "source": [
    "def dataCollection(rootAddress, maxNumTweets):\n",
    "    \n",
    "    \"\"\"\n",
    "        The data collection function\n",
    "        Params:\n",
    "          rootAddress....A string representing the rood directory\n",
    "          maxNumTweets...An intiger representing the number of tweets \n",
    "                        to be collected\n",
    "       \n",
    "    \"\"\"\n",
    "    twitter = get_twitter('twitter.cfg')\n",
    "    print('Established Twitter connection.')\n",
    "    \n",
    "    filePrepration(rootAddress, [\"dual_friendship\", \n",
    "                             \"no_friendship\", \n",
    "                             \"target_follow_sender_friendship\", \n",
    "                             \"sender_follow_target_friendship\"])\n",
    "    \n",
    "    ## read the seedwords\n",
    "    with open(\"seedWords.json\", \"r\") as read_file:\n",
    "        seedWords = json.load(read_file)\n",
    "        seedWords = seedWords[\"hostile_words\"]\n",
    "    counter = 0\n",
    "    \n",
    "    ##\n",
    "    req = twitter.request('statuses/filter', {'track': ' ,'.join(seedWords), 'lang':'en'})\n",
    "    \n",
    "    while True:\n",
    "        try:\n",
    "            for tweet in req.get_iterator():\n",
    "                keys = tweet.keys()\n",
    "                if 'in_reply_to_user_id' in keys:\n",
    "                    ## filter the starter_tweets and the tweets with the same target and sender\n",
    "                    if tweet['in_reply_to_user_id']!= None and tweet['user']['id']!= tweet['in_reply_to_user_id']:\n",
    "                        target = tweet['in_reply_to_user_id']\n",
    "                        source = tweet['user']['id']\n",
    "                        request = twitter.request('friendships/show', {'source_id':source, 'target_id':target})\n",
    "                        \n",
    "                        ## check the relation between the sender and the target of tweet\n",
    "                        for relation in request:\n",
    "                            fileName = ''\n",
    "                            relation = relation['relationship']['source']\n",
    "                            if relation['following']:\n",
    "                                if relation['followed_by']:\n",
    "                                    fileName = \"dual_friendship\"\n",
    "                                else:\n",
    "                                    fileName = \"sender_follow_target_friendship\"\n",
    "                            elif relation['followed_by']:\n",
    "                                fileName = \"target_follow_sender_friendship\"\n",
    "                            else:\n",
    "                                fileName = \"no_friendship\"\n",
    "                                \n",
    "                            ## store the tweet in the file that presents the relationship type\n",
    "                            with open(rootAddress + fileName + \".json\", mode='a', encoding='utf-8') as feedsjson:\n",
    "                                feedsjson.write(json.dumps(tweet)+\"\\n\")\n",
    "                            feedsjson.close()\n",
    "                        counter += 1\n",
    "                        print(counter)\n",
    "                if counter > (maxNumTweets):\n",
    "                    break\n",
    "        ## handle the twitter rate limitation ( sleep for 15 mins )\n",
    "        except Exception as e: \n",
    "            print(\"---------------\")\n",
    "            print(e)\n",
    "            print(\"---------------\")\n",
    "            print('Got error %s \\nsleeping for 15 minutes.' % request.text)\n",
    "            print(request.status_code)\n",
    "            sys.stderr.flush()\n",
    "            time.sleep(61 * 15)\n",
    "            twitter = get_twitter('twitter.cfg')\n",
    "            req = twitter.request('statuses/filter', {'track': ' ,'.join(seedWords), 'lang':'en'})"
   ]
  },
  {
   "cell_type": "code",
   "execution_count": null,
   "metadata": {},
   "outputs": [],
   "source": [
    "if __name__ == \"__main__\":\n",
    "    rootAddress = \"./\"\n",
    "    dataCollection(rootAddress, 10**6)"
   ]
  }
 ],
 "metadata": {
  "kernelspec": {
   "display_name": "Python 3",
   "language": "python",
   "name": "python3"
  },
  "language_info": {
   "codemirror_mode": {
    "name": "ipython",
    "version": 3
   },
   "file_extension": ".py",
   "mimetype": "text/x-python",
   "name": "python",
   "nbconvert_exporter": "python",
   "pygments_lexer": "ipython3",
   "version": "3.6.5"
  }
 },
 "nbformat": 4,
 "nbformat_minor": 2
}
