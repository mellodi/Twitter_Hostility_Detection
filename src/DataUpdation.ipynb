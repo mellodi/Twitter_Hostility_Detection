{
 "cells": [
  {
   "cell_type": "markdown",
   "metadata": {},
   "source": [
    "## Data Updation"
   ]
  },
  {
   "attachments": {},
   "cell_type": "markdown",
   "metadata": {},
   "source": [
    "#### The collected data (using the DataCollection code) needed to be updated after two weeks for more information regarding the other peoples reations to the tweet like the num. of likes or retweets"
   ]
  },
  {
   "cell_type": "code",
   "execution_count": 3,
   "metadata": {},
   "outputs": [],
   "source": [
    "import json\n",
    "import csv\n",
    "import sys\n",
    "import time\n",
    "import pandas as pd\n",
    "import ast\n",
    "import numpy as np\n",
    "import collections\n",
    "import os\n",
    "import math\n",
    "import collections\n",
    "from sklearn.feature_extraction.text import CountVectorizer\n",
    "from sklearn.feature_extraction.text import TfidfTransformer, TfidfVectorizer\n",
    "from sklearn.cluster import KMeans\n",
    "from sklearn.model_selection import cross_validate, StratifiedKFold\n",
    "from sklearn.neighbors import KNeighborsClassifier\n",
    "from sklearn.decomposition import PCA,TruncatedSVD\n",
    "import re\n",
    "import random\n",
    "from emoji_function import demojize\n",
    "from myUtility import getTwitter, filePrepration, readData"
   ]
  },
  {
   "cell_type": "code",
   "execution_count": 18,
   "metadata": {},
   "outputs": [],
   "source": [
    "def update(rootAddress, fileName, ids, twitter):\n",
    "    \n",
    "    \"\"\" \n",
    "        Update the data by retrieving the newest version of the tweet.\n",
    "        \n",
    "        Params:\n",
    "          ids...........A list of integers, representing the unique id\n",
    "              of each tweet in the dataset.\n",
    "          fileName......A string representing the relationship\n",
    "              category that been updated.\n",
    "          twitter.......An object representing the Twitter API handler\n",
    "          rootAddress...A string representing the rood directory \n",
    "    \"\"\"\n",
    "    \n",
    "    filePrepration(rootAddress, [fileName])\n",
    "    \n",
    "    numTweets = len(ids)\n",
    "    counter = 0\n",
    "    tweets = []\n",
    "    \n",
    "    while (numTweets - counter) >= 100:\n",
    "        \"\"\"  \n",
    "            update 100 tweets at a time using their id ('statuses/lookup' rate limitation = \n",
    "            100 id in each request)\n",
    "        \"\"\"\n",
    "        update = twitter.request('statuses/lookup', {'id': \",\".join(ids[counter:counter+100])})\n",
    "        try:\n",
    "            ## store the updated tweets in the file representing the relationship type\n",
    "            for tweet in update.get_iterator():\n",
    "                filePath = rootAddress + fileName + \".json\"\n",
    "                with open( filePath, mode='a', encoding='utf-8') as feedsjson:\n",
    "                    feedsjson.write(json.dumps(tweet)+\"\\n\")\n",
    "                    feedsjson.close()\n",
    "            counter += 100\n",
    "            \n",
    "        ## handle the twitter rate limitation ( sleep for 15 mins )\n",
    "        except Exception as e: \n",
    "            print(\"---------------\")\n",
    "            print(e)\n",
    "            print(\"---------------\")\n",
    "            print('Got error %s \\nsleeping for 15 minutes.' % update.text)\n",
    "            print(update.status_code)\n",
    "            sys.stderr.flush()\n",
    "            time.sleep(61 * 15)\n",
    "            twitter = getTwitter('twitter.cfg')\n",
    "    \n",
    "    ## update the last batch of the tweets with size < 100\n",
    "    try:\n",
    "        update = twitter.request('statuses/lookup', {'id': \",\".join(ids[counter:numTweets])})\n",
    "        \n",
    "    ## handle the twitter rate limitation ( sleep for 15 mins )\n",
    "    except Exception as e: \n",
    "            print(\"---------------\")\n",
    "            print(e)\n",
    "            print(\"---------------\")\n",
    "            print('Got error %s \\nsleeping for 15 minutes.' % update.text)\n",
    "            print(update.status_code)\n",
    "            sys.stderr.flush()\n",
    "            time.sleep(61 * 15)\n",
    "            twitter = getTwitter('twitter.cfg')\n",
    "            update = twitter.request('statuses/lookup', {'id': \",\".join(ids[counter:numTweets])})\n",
    "\n",
    "    for tweet in update.get_iterator(): \n",
    "        filePath = rootAddress + fileName + \".json\"\n",
    "        with open( filePath, mode='a', encoding='utf-8') as feedsjson:\n",
    "                feedsjson.write(json.dumps(tweet)+\"\\n\")\n",
    "                feedsjson.close()\n"
   ]
  },
  {
   "cell_type": "code",
   "execution_count": 19,
   "metadata": {},
   "outputs": [
    {
     "name": "stdout",
     "output_type": "stream",
     "text": [
      "Established Twitter connection.\n"
     ]
    }
   ],
   "source": [
    "if __name__ == \"__main__\":\n",
    "    \n",
    "    rootAddress = \"./\"\n",
    "    relationship_categories = [\n",
    "        \"dual_friendship\", \n",
    "        \"no_friendship\",\n",
    "        \"target_follow_sender_friendship\",\n",
    "        \"sender_follow_target_friendship\"\n",
    "    ]\n",
    "    \n",
    "    twitter = getTwitter('twitter.cfg')\n",
    "    print('Established Twitter connection.')\n",
    "\n",
    "    for relationship_type in relationship_categories:\n",
    "        data = readData(rootAddress, relationship_type)\n",
    "        relationship_pd = pd.DataFrame(data)\n",
    "        relationship_tweet_ids = [str(tweet['id']) for index, tweet in relationship_pd.iterrows()] \n",
    "        update(rootAddress, relationship_type, relationship_tweet_ids, twitter)"
   ]
  },
  {
   "cell_type": "code",
   "execution_count": null,
   "metadata": {},
   "outputs": [],
   "source": []
  }
 ],
 "metadata": {
  "kernelspec": {
   "display_name": "Python 3",
   "language": "python",
   "name": "python3"
  },
  "language_info": {
   "codemirror_mode": {
    "name": "ipython",
    "version": 3
   },
   "file_extension": ".py",
   "mimetype": "text/x-python",
   "name": "python",
   "nbconvert_exporter": "python",
   "pygments_lexer": "ipython3",
   "version": "3.6.5"
  }
 },
 "nbformat": 4,
 "nbformat_minor": 2
}
